{
 "cells": [
  {
   "cell_type": "code",
   "execution_count": 1,
   "metadata": {
    "ExecuteTime": {
     "end_time": "2020-02-29T12:53:16.447080Z",
     "start_time": "2020-02-29T12:53:13.807112Z"
    }
   },
   "outputs": [
    {
     "name": "stderr",
     "output_type": "stream",
     "text": [
      "Using TensorFlow backend.\n"
     ]
    }
   ],
   "source": [
    "import numpy as np\n",
    "from keras.datasets import mnist\n",
    "import matplotlib.pyplot as plt\n",
    "from mpl_toolkits.mplot3d import Axes3D\n",
    "import cv2"
   ]
  },
  {
   "cell_type": "code",
   "execution_count": 2,
   "metadata": {
    "ExecuteTime": {
     "end_time": "2020-02-29T12:53:16.453013Z",
     "start_time": "2020-02-29T12:53:16.449025Z"
    }
   },
   "outputs": [
    {
     "name": "stdout",
     "output_type": "stream",
     "text": [
      "10 <class 'numpy.ndarray'>\n",
      "dimension:  0\n"
     ]
    }
   ],
   "source": [
    "#scalar(0D tensors) dimension also called axis\n",
    "a = np.array(10) # can't put more numbers into the '()' !\n",
    "print(a, type(a))\n",
    "print(\"dimension: \", a.ndim)"
   ]
  },
  {
   "cell_type": "code",
   "execution_count": 3,
   "metadata": {
    "ExecuteTime": {
     "end_time": "2020-02-29T12:53:16.466004Z",
     "start_time": "2020-02-29T12:53:16.454010Z"
    }
   },
   "outputs": [
    {
     "name": "stdout",
     "output_type": "stream",
     "text": [
      "[1 2 3] <class 'numpy.ndarray'>\n",
      "dimension(axis):  1\n",
      "shape:  (3,)\n"
     ]
    }
   ],
   "source": [
    "#vector(1D tensors)\n",
    "b = np.array([1,2,3]) # it's a 3D vector or to say a 1D vector!!\n",
    "print(b, type(b))\n",
    "print(\"dimension(axis): \",b.ndim)\n",
    "print(\"shape: \", b.shape)"
   ]
  },
  {
   "cell_type": "code",
   "execution_count": 4,
   "metadata": {
    "ExecuteTime": {
     "end_time": "2020-02-29T12:53:16.473960Z",
     "start_time": "2020-02-29T12:53:16.466994Z"
    }
   },
   "outputs": [
    {
     "name": "stdout",
     "output_type": "stream",
     "text": [
      "[[ 1  2  3  4]\n",
      " [ 5  6  7  8]\n",
      " [ 9 10 11 12]]\n",
      "rank:  2\n",
      "shape:  (3, 4)\n"
     ]
    }
   ],
   "source": [
    "# matrices(2D tensors)\n",
    "c = np.array([\n",
    "    [1, 2, 3, 4],\n",
    "    [5, 6, 7, 8],\n",
    "    [9, 10, 11, 12],\n",
    "])\n",
    "print(c)\n",
    "print(\"rank: \", c.ndim)\n",
    "print(\"shape: \", c.shape)"
   ]
  },
  {
   "cell_type": "code",
   "execution_count": 5,
   "metadata": {
    "ExecuteTime": {
     "end_time": "2020-02-29T12:53:16.481934Z",
     "start_time": "2020-02-29T12:53:16.474990Z"
    }
   },
   "outputs": [
    {
     "name": "stdout",
     "output_type": "stream",
     "text": [
      "[[[  1  -2   3]\n",
      "  [  3   2   1]]\n",
      "\n",
      " [[  4   5   6]\n",
      "  [  6   5   4]]\n",
      "\n",
      " [[-10   8   9]\n",
      "  [  9   8   7]]\n",
      "\n",
      " [[  1   1   1]\n",
      "  [  0   0   0]]]\n",
      "rank:  3\n",
      "shape:  (4, 2, 3)\n"
     ]
    }
   ],
   "source": [
    "#3D tensors\n",
    "d = np.array([\n",
    "    [[1,-2,3],\n",
    "    [3,2,1]],\n",
    "    [[4,5,6],\n",
    "    [6,5,4]],\n",
    "    [[-10,8,9],\n",
    "    [9,8,7]],\n",
    "    [[1,1,1],\n",
    "    [0,0,0]]\n",
    "])\n",
    "print(d)\n",
    "print(\"rank: \", d.ndim)\n",
    "print(\"shape: \", d.shape)"
   ]
  },
  {
   "cell_type": "code",
   "execution_count": 6,
   "metadata": {
    "ExecuteTime": {
     "end_time": "2020-02-29T12:53:16.489913Z",
     "start_time": "2020-02-29T12:53:16.482951Z"
    }
   },
   "outputs": [
    {
     "data": {
      "text/plain": [
       "4"
      ]
     },
     "execution_count": 6,
     "metadata": {},
     "output_type": "execute_result"
    }
   ],
   "source": [
    "d.shape[0]"
   ]
  },
  {
   "cell_type": "code",
   "execution_count": 7,
   "metadata": {
    "ExecuteTime": {
     "end_time": "2020-02-29T12:53:16.495926Z",
     "start_time": "2020-02-29T12:53:16.490912Z"
    }
   },
   "outputs": [
    {
     "data": {
      "text/plain": [
       "array([[[1, 0, 3],\n",
       "        [3, 2, 1]],\n",
       "\n",
       "       [[4, 5, 6],\n",
       "        [6, 5, 4]],\n",
       "\n",
       "       [[0, 8, 9],\n",
       "        [9, 8, 7]],\n",
       "\n",
       "       [[1, 1, 1],\n",
       "        [0, 0, 0]]])"
      ]
     },
     "execution_count": 7,
     "metadata": {},
     "output_type": "execute_result"
    }
   ],
   "source": [
    "np.maximum(d, 0) # what relu actually do !!"
   ]
  },
  {
   "cell_type": "code",
   "execution_count": 8,
   "metadata": {
    "ExecuteTime": {
     "end_time": "2020-02-29T12:53:16.504874Z",
     "start_time": "2020-02-29T12:53:16.497892Z"
    }
   },
   "outputs": [
    {
     "name": "stdout",
     "output_type": "stream",
     "text": [
      "[[[[ 1  2  3]\n",
      "   [ 4  5  6]]\n",
      "\n",
      "  [[ 3  2  1]\n",
      "   [ 6  5  4]]\n",
      "\n",
      "  [[ 0  0  0]\n",
      "   [ 1  1  1]]\n",
      "\n",
      "  [[ 7  7  7]\n",
      "   [ 8  8  8]]]\n",
      "\n",
      "\n",
      " [[[-1 -1 -1]\n",
      "   [ 2  2  2]]\n",
      "\n",
      "  [[ 3  3  3]\n",
      "   [ 4  4  4]]\n",
      "\n",
      "  [[ 5  5  5]\n",
      "   [ 6  6  6]]\n",
      "\n",
      "  [[ 9  9  9]\n",
      "   [ 7  7  7]]]]\n",
      "rank:  4\n",
      "shape:  (2, 4, 2, 3)\n"
     ]
    }
   ],
   "source": [
    "#4D tensors\n",
    "e = np.array([\n",
    "    [[[1,2,3],\n",
    "     [4,5,6]],\n",
    "    [[3,2,1],\n",
    "    [6,5,4]],\n",
    "    [[0,0,0],\n",
    "    [1,1,1]],\n",
    "    [[7,7,7],\n",
    "    [8,8,8]]],\n",
    "    \n",
    "    [[[-1,-1,-1],\n",
    "     [2,2,2]],\n",
    "    [[3,3,3],\n",
    "    [4,4,4]],\n",
    "    [[5,5,5],\n",
    "    [6,6,6]],\n",
    "    [[9,9,9],\n",
    "    [7,7,7]]]\n",
    "])\n",
    "print(e)\n",
    "print(\"rank: \", e.ndim)\n",
    "print(\"shape: \", e.shape)"
   ]
  },
  {
   "cell_type": "code",
   "execution_count": 9,
   "metadata": {
    "ExecuteTime": {
     "end_time": "2020-02-29T12:53:16.512887Z",
     "start_time": "2020-02-29T12:53:16.506869Z"
    }
   },
   "outputs": [
    {
     "name": "stdout",
     "output_type": "stream",
     "text": [
      "[[[[[1 2 3]\n",
      "    [4 5 6]]\n",
      "\n",
      "   [[3 2 1]\n",
      "    [6 5 4]]\n",
      "\n",
      "   [[0 0 0]\n",
      "    [1 1 1]]\n",
      "\n",
      "   [[7 7 7]\n",
      "    [8 8 8]]]]]\n",
      "rank:  5\n",
      "shape:  (1, 1, 4, 2, 3)\n"
     ]
    }
   ],
   "source": [
    "e2 = np.array([\n",
    "    [[[[1,2,3],\n",
    "     [4,5,6]],\n",
    "    [[3,2,1],\n",
    "    [6,5,4]],\n",
    "    [[0,0,0],\n",
    "    [1,1,1]],\n",
    "    [[7,7,7],\n",
    "    [8,8,8]]]],\n",
    "    \n",
    "])\n",
    "print(e2)\n",
    "print(\"rank: \", e2.ndim)\n",
    "print(\"shape: \", e2.shape)"
   ]
  },
  {
   "cell_type": "code",
   "execution_count": 10,
   "metadata": {
    "ExecuteTime": {
     "end_time": "2020-02-29T12:53:16.518863Z",
     "start_time": "2020-02-29T12:53:16.513893Z"
    }
   },
   "outputs": [
    {
     "name": "stdout",
     "output_type": "stream",
     "text": [
      "2\n",
      "[[[1 2 3]\n",
      "  [4 5 6]]\n",
      "\n",
      " [[3 2 1]\n",
      "  [6 5 4]]\n",
      "\n",
      " [[0 0 0]\n",
      "  [1 1 1]]\n",
      "\n",
      " [[7 7 7]\n",
      "  [8 8 8]]]\n",
      "rank:  3\n",
      "shape:  (4, 2, 3)\n"
     ]
    }
   ],
   "source": [
    "print(len(e))\n",
    "f = e[0]\n",
    "print(f)\n",
    "print(\"rank: \", f.ndim)\n",
    "print(\"shape: \", f.shape)"
   ]
  }
 ],
 "metadata": {
  "kernelspec": {
   "display_name": "Python 3",
   "language": "python",
   "name": "python3"
  },
  "language_info": {
   "codemirror_mode": {
    "name": "ipython",
    "version": 3
   },
   "file_extension": ".py",
   "mimetype": "text/x-python",
   "name": "python",
   "nbconvert_exporter": "python",
   "pygments_lexer": "ipython3",
   "version": "3.7.3"
  },
  "toc": {
   "base_numbering": 1,
   "nav_menu": {},
   "number_sections": true,
   "sideBar": true,
   "skip_h1_title": false,
   "title_cell": "Table of Contents",
   "title_sidebar": "Contents",
   "toc_cell": false,
   "toc_position": {},
   "toc_section_display": true,
   "toc_window_display": false
  }
 },
 "nbformat": 4,
 "nbformat_minor": 2
}
